{
  "nbformat": 4,
  "nbformat_minor": 0,
  "metadata": {
    "colab": {
      "name": "Copy of Python Programming_Assignment.ipynb",
      "provenance": [],
      "include_colab_link": true
    },
    "kernelspec": {
      "name": "python3",
      "display_name": "Python 3"
    },
    "language_info": {
      "name": "python"
    }
  },
  "cells": [
    {
      "cell_type": "markdown",
      "metadata": {
        "id": "view-in-github",
        "colab_type": "text"
      },
      "source": [
        "<a href=\"https://colab.research.google.com/github/GNAVEEN13/cancer-prediction-p2b/blob/main/Copy_of_Python_Programming_Assignment.ipynb\" target=\"_parent\"><img src=\"https://colab.research.google.com/assets/colab-badge.svg\" alt=\"Open In Colab\"/></a>"
      ]
    },
    {
      "cell_type": "markdown",
      "metadata": {
        "id": "XluiJ7H4d3tt"
      },
      "source": [
        "1. Write a function display_words() in python to read lines from a text file \"story.txt\", and display those words, which are less than 4 characters"
      ]
    },
    {
      "cell_type": "code",
      "metadata": {
        "id": "3WzDEm3xd5ZM",
        "colab": {
          "base_uri": "https://localhost:8080/"
        },
        "outputId": "a8da22fb-82fe-44e5-ee38-c115dca78f10"
      },
      "source": [
        "#Code here\n",
        "def display_words():\n",
        "  file = open(\"countletters.txt\",\"r\")\n",
        "  for line in file:\n",
        "    words = line.split()\n",
        "    for word in words:\n",
        "      if len(word)<4:\n",
        "        print(word,end=\" \")\n",
        "display_words()"
      ],
      "execution_count": 4,
      "outputs": [
        {
          "output_type": "stream",
          "text": [
            "hii how are is "
          ],
          "name": "stdout"
        }
      ]
    },
    {
      "cell_type": "markdown",
      "metadata": {
        "id": "jzH0s_AyeCuq"
      },
      "source": [
        "2. Write a function in Python to read lines from a text file \"notes.txt\". Your function should find and display the occurrence of the word \"the\".\n",
        "\n",
        "For example: If the content of the file is:\n",
        "\"India is the fastest-growing economy. India is looking for more investments around the globe. The whole world is looking at India as a great market. Most of the Indians can foresee the heights that India is capable of reaching.\"\n",
        "\n",
        "The output should be 5."
      ]
    },
    {
      "cell_type": "code",
      "metadata": {
        "id": "tLDueX6aeeWM",
        "colab": {
          "base_uri": "https://localhost:8080/"
        },
        "outputId": "063d8ce9-9676-45db-ab63-51fcc088b01c"
      },
      "source": [
        "#Code here\n",
        "def count_word():\n",
        "  file = open(\"thefile.txt\",\"r\")\n",
        "  count = 0\n",
        "  for line in file:\n",
        "    words = line.split()\n",
        "    for word in words:\n",
        "      if word==\"the\" or word==\"The\":\n",
        "        count += 1\n",
        "    print(count) \n",
        "count_word()     \n"
      ],
      "execution_count": null,
      "outputs": [
        {
          "output_type": "stream",
          "text": [
            "5\n"
          ],
          "name": "stdout"
        }
      ]
    },
    {
      "cell_type": "code",
      "metadata": {
        "id": "408A7grcah84"
      },
      "source": [
        ""
      ],
      "execution_count": null,
      "outputs": []
    }
  ]
}