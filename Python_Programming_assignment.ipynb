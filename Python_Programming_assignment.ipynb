{
  "nbformat": 4,
  "nbformat_minor": 0,
  "metadata": {
    "colab": {
      "name": "Python Programming assignment.ipynb",
      "provenance": [],
      "collapsed_sections": [],
      "include_colab_link": true
    },
    "kernelspec": {
      "name": "python3",
      "display_name": "Python 3"
    }
  },
  "cells": [
    {
      "cell_type": "markdown",
      "metadata": {
        "id": "view-in-github",
        "colab_type": "text"
      },
      "source": [
        "<a href=\"https://colab.research.google.com/github/GNAVEEN13/cancer-prediction-p2b/blob/main/Python_Programming_assignment.ipynb\" target=\"_parent\"><img src=\"https://colab.research.google.com/assets/colab-badge.svg\" alt=\"Open In Colab\"/></a>"
      ]
    },
    {
      "cell_type": "markdown",
      "metadata": {
        "id": "m1h_DCHPcnME"
      },
      "source": [
        "1.Write a Python program to add two Matrices.\n",
        "\n",
        "\n",
        "\n",
        "Input :\n",
        "\n",
        " X=\n",
        "    \n",
        "     [[1,2,3],\n",
        "   \n",
        "     [4 ,5,6],\n",
        "     \n",
        "     [7 ,8,9]]\n",
        " \n",
        "Y = \n",
        "\n",
        "    [[9,8,7],\n",
        "    \n",
        "    [6,5,4],\n",
        "    \n",
        "    [3,2,1]]\n",
        " \n",
        "Output :\n",
        " result=\n",
        "      \n",
        "       [[10,10,10],\n",
        "       \n",
        "       [10,10,10],\n",
        "       \n",
        "       [10,10,10]]\n",
        "\n"
      ]
    },
    {
      "cell_type": "code",
      "metadata": {
        "id": "-rYT1CK8c63l",
        "colab": {
          "base_uri": "https://localhost:8080/"
        },
        "outputId": "1d4f5887-36f2-495a-a59b-cf5e8565d3ba"
      },
      "source": [
        "#write your code here\n",
        "x = [[1,2,3],[4 ,5,6],[7 ,8,9]]\n",
        "y = [[9,8,7],[6,5,4],[3,2,1]]\n",
        "result = [[0,0,0],[0,0,0],[0,0,0]]\n",
        "#iteration through rows\n",
        "for i in range(len(x)):\n",
        "  #iteration through columns\n",
        "  for j in range(len(x[0])):\n",
        "    result[i][j] = x[i][j] + y[i][j]\n",
        "\n",
        "#result\n",
        "for r in result:\n",
        "  print(r)"
      ],
      "execution_count": null,
      "outputs": [
        {
          "output_type": "stream",
          "text": [
            "[10, 10, 10]\n",
            "[10, 10, 10]\n",
            "[10, 10, 10]\n"
          ],
          "name": "stdout"
        }
      ]
    },
    {
      "cell_type": "code",
      "metadata": {
        "id": "lL-79YHVeJBe"
      },
      "source": [
        ""
      ],
      "execution_count": null,
      "outputs": []
    }
  ]
}